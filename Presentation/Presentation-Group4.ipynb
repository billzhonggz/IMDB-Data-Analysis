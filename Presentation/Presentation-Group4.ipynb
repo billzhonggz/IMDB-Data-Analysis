{
 "cells": [
  {
   "cell_type": "markdown",
   "metadata": {
    "slideshow": {
     "slide_type": "slide"
    }
   },
   "source": [
    "# Analysis on IMDb Movie Data\n",
    "\n",
    "## Group Information\n",
    "* 1430003004 Jeff 傅永升\n",
    "* 1430003011 Covey 刘克盾\n",
    "* 1430003029 Garfield 邬嘉祺\n",
    "* 1430003030 Frank 邬可夫\n",
    "* 1430003045 Bill 钟钧儒\n",
    "## Collecting Data\n",
    "The data comes from Kaggle, which collects data of 1000 movies.\n",
    "### Kaggle\n",
    "Kaggle is a platform for predictive modelling and analytics competitions in which statisticians and data miners compete to produce the best models for predicting and describing the datasets uploaded by companies and users.[Wikipedia]\n",
    "![](kaggle-data.png)\n",
    "### IMDb\n",
    "IMDb, formerly known as Internet Movie Database, is an online database of information related to films, television programs and video games, including cast, production crew, fictional characters, biographies, plot summaries, trivia and reviews, operated by IMDb.com, Inc., a subsidiary of Amazon.[Wikipedia]\n",
    "![](imdb-mainpage.png)\n",
    "### Movies on IMDb\n",
    "![](imdb-movie.png)"
   ]
  },
  {
   "cell_type": "markdown",
   "metadata": {
    "slideshow": {
     "slide_type": "slide"
    }
   },
   "source": [
    "## Analysis\n",
    "Five analyses were brought out by members in the group.\n",
    "### Analysis on Directors\n",
    "This analysis was posted by **Junru (Bill) Zhong**, and the following aims were setted.\n",
    "* Find out which director earned most.\n",
    "* Find out the genres of the works of the five-most earned directors.\n",
    "* Estimate how much each of them will get in their next film.\n",
    "### Technologies\n",
    "* Python\n",
    "* Package: pandas"
   ]
  },
  {
   "cell_type": "code",
   "execution_count": 9,
   "metadata": {
    "slideshow": {
     "slide_type": "slide"
    }
   },
   "outputs": [
    {
     "name": "stdout",
     "output_type": "stream",
     "text": [
      "   Rank                    Title                     Genre  \\\n",
      "0     1  Guardians of the Galaxy   Action,Adventure,Sci-Fi   \n",
      "1     2               Prometheus  Adventure,Mystery,Sci-Fi   \n",
      "2     3                    Split           Horror,Thriller   \n",
      "3     4                     Sing   Animation,Comedy,Family   \n",
      "4     5            Suicide Squad  Action,Adventure,Fantasy   \n",
      "\n",
      "                                         Description              Director  \\\n",
      "0  A group of intergalactic criminals are forced ...            James Gunn   \n",
      "1  Following clues to the origin of mankind, a te...          Ridley Scott   \n",
      "2  Three girls are kidnapped by a man with a diag...    M. Night Shyamalan   \n",
      "3  In a city of humanoid animals, a hustling thea...  Christophe Lourdelet   \n",
      "4  A secret government agency recruits some of th...            David Ayer   \n",
      "\n",
      "                                              Actors  Year  Runtime (Minutes)  \\\n",
      "0  Chris Pratt, Vin Diesel, Bradley Cooper, Zoe S...  2014                121   \n",
      "1  Noomi Rapace, Logan Marshall-Green, Michael Fa...  2012                124   \n",
      "2  James McAvoy, Anya Taylor-Joy, Haley Lu Richar...  2016                117   \n",
      "3  Matthew McConaughey,Reese Witherspoon, Seth Ma...  2016                108   \n",
      "4  Will Smith, Jared Leto, Margot Robbie, Viola D...  2016                123   \n",
      "\n",
      "   Rating   Votes  Revenue (Millions)  Metascore  \n",
      "0     8.1  757074              333.13       76.0  \n",
      "1     7.0  485820              126.46       65.0  \n",
      "2     7.3  157606              138.12       62.0  \n",
      "3     7.2   60545              270.32       59.0  \n",
      "4     6.2  393727              325.02       40.0  \n"
     ]
    }
   ],
   "source": [
    "# Import package\n",
    "import pandas as pd\n",
    "# Read data\n",
    "df = pd.read_csv('../Dataset/IMDB-Movie-Data.csv')\n",
    "print(df.head())"
   ]
  },
  {
   "cell_type": "markdown",
   "metadata": {
    "slideshow": {
     "slide_type": "slide"
    }
   },
   "source": [
    "### Arranging Data\n",
    "* Use `groupby` method provided by pandas, select all directors and their films' revenue.\n",
    "* Collect this data with the film count and total revenue of their works.\n",
    "* Drop the data with value of null."
   ]
  },
  {
   "cell_type": "code",
   "execution_count": 4,
   "metadata": {},
   "outputs": [
    {
     "name": "stdout",
     "output_type": "stream",
     "text": [
      "              Director     sum  count\n",
      "0           Aamir Khan    1.20      1\n",
      "1  Abdellatif Kechiche    2.20      1\n",
      "3           Adam McKay  438.14      4\n",
      "4        Adam Shankman  157.33      2\n",
      "5         Adam Wingard   21.07      2\n"
     ]
    }
   ],
   "source": [
    "# List all directors.\n",
    "directorList = df.groupby('Director')['Revenue (Millions)'].agg(['sum', 'count']).reset_index()\n",
    "# Delete invalid data\n",
    "directorList = directorList.dropna()\n",
    "# Print out result\n",
    "print(directorList.head())"
   ]
  },
  {
   "cell_type": "markdown",
   "metadata": {},
   "source": [
    "### Sort Data\n",
    "Sort the data according to the **average revenue** of each film that the directors directed.\n",
    "* Calculate the average revenue.\n",
    "* Sort the list.\n",
    "* Save the first five directors."
   ]
  },
  {
   "cell_type": "code",
   "execution_count": 6,
   "metadata": {},
   "outputs": [
    {
     "name": "stdout",
     "output_type": "stream",
     "text": [
      "              Director     sum  count      avg\n",
      "0           Aamir Khan    1.20      1    1.200\n",
      "1  Abdellatif Kechiche    2.20      1    2.200\n",
      "3           Adam McKay  438.14      4  109.535\n",
      "4        Adam Shankman  157.33      2   78.665\n",
      "5         Adam Wingard   21.07      2   10.535\n"
     ]
    }
   ],
   "source": [
    "# Get average revenue of each director.\n",
    "directorList['avg'] = directorList['sum'] / directorList['count']\n",
    "print(directorList.head())"
   ]
  },
  {
   "cell_type": "code",
   "execution_count": 7,
   "metadata": {},
   "outputs": [
    {
     "name": "stdout",
     "output_type": "stream",
     "text": [
      "            Director      sum  count      avg\n",
      "261    James Cameron   760.51      1  760.510\n",
      "114  Colin Trevorrow   652.18      1  652.180\n",
      "341      Joss Whedon  1082.27      2  541.135\n",
      "377      Lee Unkrich   414.98      1  414.980\n",
      "208        Gary Ross   408.00      1  408.000\n"
     ]
    }
   ],
   "source": [
    "# Sorting by revenue, list the first five data.\n",
    "firstFive = directorList.sort_values('avg', ascending=False).head()\n",
    "print(firstFive)"
   ]
  },
  {
   "cell_type": "markdown",
   "metadata": {},
   "source": [
    "### Genres of Directors' Work\n",
    "Go back to the original dataset, then match all entries of these directors."
   ]
  },
  {
   "cell_type": "code",
   "execution_count": 8,
   "metadata": {},
   "outputs": [
    {
     "name": "stdout",
     "output_type": "stream",
     "text": [
      "James Cameron, Action,Adventure,Fantasy, Avatar\n",
      "Colin Trevorrow, Action,Adventure,Sci-Fi, Jurassic World\n",
      "Joss Whedon, Action,Sci-Fi, The Avengers\n",
      "Joss Whedon, Action,Adventure,Sci-Fi, Avengers: Age of Ultron\n",
      "Lee Unkrich, Animation,Adventure,Comedy, Toy Story 3\n",
      "Gary Ross, Adventure,Sci-Fi,Thriller, The Hunger Games\n",
      "Gary Ross, Action,Biography,Drama, Free State of Jones\n"
     ]
    }
   ],
   "source": [
    "# Searching their works.\n",
    "directorNames = firstFive['Director']\n",
    "for directorName in directorNames:\n",
    "    for index, row in df.iterrows():\n",
    "        if row['Director'] == directorName:\n",
    "            print(row['Director'] + ', ' + row['Genre'] + ', ' + row['Title'])"
   ]
  },
  {
   "cell_type": "markdown",
   "metadata": {},
   "source": [
    "*One movie from **Gary Ross** was not calculated because there is no revenue data.*"
   ]
  },
  {
   "cell_type": "markdown",
   "metadata": {},
   "source": [
    "### Summary\n",
    "* In the first five directors, seven of their works were recorded.\n",
    "* Six of seven films have the genre of **Action**, that means action films are popular.\n",
    "* Four of seven films have the genre of **Sci-Fi (科幻)**, this genre is also popular.\n",
    "![](first-two.png)\n",
    "![](third.png)\n",
    "![](fourth-fifth.png)"
   ]
  },
  {
   "cell_type": "code",
   "execution_count": null,
   "metadata": {
    "collapsed": true
   },
   "outputs": [],
   "source": []
  }
 ],
 "metadata": {
  "kernelspec": {
   "display_name": "Python 3",
   "language": "python",
   "name": "python3"
  },
  "language_info": {
   "codemirror_mode": {
    "name": "ipython",
    "version": 3
   },
   "file_extension": ".py",
   "mimetype": "text/x-python",
   "name": "python",
   "nbconvert_exporter": "python",
   "pygments_lexer": "ipython3",
   "version": "3.6.3"
  }
 },
 "nbformat": 4,
 "nbformat_minor": 2
}
